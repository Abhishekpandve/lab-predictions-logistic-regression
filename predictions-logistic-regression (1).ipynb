{
 "cells": [
  {
   "cell_type": "code",
   "execution_count": 3,
   "metadata": {},
   "outputs": [],
   "source": [
    "import pandas as pd\n",
    "import pymysql\n",
    "\n",
    "# Connect to the database\n",
    "connection = pymysql.connect(\n",
    "    host='127.0.0.1',\n",
    "    user='root',\n",
    "    password='abhi12345',\n",
    "    database='sakila'\n",
    ")\n",
    "\n",
    "# Execute the SQL query and read into a Pandas DataFrame\n",
    "query = '''\n",
    "   SELECT\n",
    "    f.film_id,\n",
    "    f.title,\n",
    "    f.release_year,\n",
    "    f.length,\n",
    "    f.rating,\n",
    "    f.special_features,\n",
    "    COUNT(r.rental_id) AS rental_count,\n",
    "    MAX(IFNULL(r.rental_date >= '2005-05-01' AND r.rental_date < '2005-06-01', 0)) AS rented_in_may\n",
    "FROM\n",
    "    film f\n",
    "LEFT JOIN\n",
    "    inventory i ON f.film_id = i.film_id\n",
    "LEFT JOIN\n",
    "    rental r ON i.inventory_id = r.inventory_id\n",
    "GROUP BY\n",
    "    f.film_id;\n",
    "\n",
    "'''\n",
    "df = pd.read_sql(query, connection)\n",
    "\n",
    "# Close the database connection\n",
    "connection.close()\n"
   ]
  },
  {
   "cell_type": "markdown",
   "metadata": {},
   "source": []
  },
  {
   "cell_type": "code",
   "execution_count": 4,
   "metadata": {},
   "outputs": [],
   "source": [
    "# Encoding categorical variables (example)\n",
    "df = pd.get_dummies(df, columns=['rating', 'special_features'])\n",
    "\n",
    "# Scaling numerical variables (example)\n",
    "from sklearn.preprocessing import StandardScaler\n",
    "scaler = StandardScaler()\n",
    "df[['release_year', 'length', 'rental_count']] = scaler.fit_transform(df[['release_year', 'length', 'rental_count']])"
   ]
  },
  {
   "cell_type": "markdown",
   "metadata": {},
   "source": []
  },
  {
   "cell_type": "code",
   "execution_count": 5,
   "metadata": {},
   "outputs": [
    {
     "name": "stdout",
     "output_type": "stream",
     "text": [
      "Accuracy: 0.81\n",
      "Confusion Matrix:\n",
      "[[ 39  26]\n",
      " [ 12 123]]\n",
      "Classification Report:\n",
      "              precision    recall  f1-score   support\n",
      "\n",
      "           0       0.76      0.60      0.67        65\n",
      "           1       0.83      0.91      0.87       135\n",
      "\n",
      "    accuracy                           0.81       200\n",
      "   macro avg       0.80      0.76      0.77       200\n",
      "weighted avg       0.81      0.81      0.80       200\n",
      "\n"
     ]
    }
   ],
   "source": [
    "from sklearn.model_selection import train_test_split\n",
    "from sklearn.linear_model import LogisticRegression\n",
    "from sklearn.metrics import accuracy_score, confusion_matrix, classification_report\n",
    "\n",
    "# Define features (X) and target variable (y)\n",
    "X = df.drop(['film_id', 'title', 'rented_in_may'], axis=1)\n",
    "y = df['rented_in_may']\n",
    "\n",
    "# Split the data into training and testing sets\n",
    "X_train, X_test, y_train, y_test = train_test_split(X, y, test_size=0.2, random_state=42)\n",
    "\n",
    "# Create a logistic regression model\n",
    "model = LogisticRegression()\n",
    "model.fit(X_train, y_train)\n",
    "\n",
    "# Predict on the test set\n",
    "y_pred = model.predict(X_test)\n",
    "\n",
    "# Evaluate the model\n",
    "accuracy = accuracy_score(y_test, y_pred)\n",
    "conf_matrix = confusion_matrix(y_test, y_pred)\n",
    "class_report = classification_report(y_test, y_pred)\n",
    "\n",
    "print(f'Accuracy: {accuracy}')\n",
    "print(f'Confusion Matrix:\\n{conf_matrix}')\n",
    "print(f'Classification Report:\\n{class_report}')\n"
   ]
  },
  {
   "cell_type": "code",
   "execution_count": null,
   "metadata": {},
   "outputs": [],
   "source": []
  }
 ],
 "metadata": {
  "kernelspec": {
   "display_name": "Python 3",
   "language": "python",
   "name": "python3"
  },
  "language_info": {
   "codemirror_mode": {
    "name": "ipython",
    "version": 3
   },
   "file_extension": ".py",
   "mimetype": "text/x-python",
   "name": "python",
   "nbconvert_exporter": "python",
   "pygments_lexer": "ipython3",
   "version": "3.8.5"
  }
 },
 "nbformat": 4,
 "nbformat_minor": 4
}
